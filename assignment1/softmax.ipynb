{
 "cells": [
  {
   "cell_type": "markdown",
   "metadata": {},
   "source": [
    "# Softmax exercise\n",
    "\n",
    "*Complete and hand in this completed worksheet (including its outputs and any supporting code outside of the worksheet) with your assignment submission. For more details see the [assignments page](http://vision.stanford.edu/teaching/cs231n/assignments.html) on the course website.*\n",
    "\n",
    "This exercise is analogous to the SVM exercise. You will:\n",
    "\n",
    "- implement a fully-vectorized **loss function** for the Softmax classifier\n",
    "- implement the fully-vectorized expression for its **analytic gradient**\n",
    "- **check your implementation** with numerical gradient\n",
    "- use a validation set to **tune the learning rate and regularization** strength\n",
    "- **optimize** the loss function with **SGD**\n",
    "- **visualize** the final learned weights\n"
   ]
  },
  {
   "cell_type": "code",
   "execution_count": 4,
   "metadata": {
    "collapsed": false
   },
   "outputs": [
    {
     "name": "stdout",
     "output_type": "stream",
     "text": [
      "The autoreload extension is already loaded. To reload it, use:\n",
      "  %reload_ext autoreload\n"
     ]
    }
   ],
   "source": [
    "import random\n",
    "import numpy as np\n",
    "from cs231n.data_utils import load_CIFAR10\n",
    "import matplotlib.pyplot as plt\n",
    "%matplotlib inline\n",
    "plt.rcParams['figure.figsize'] = (10.0, 8.0) # set default size of plots\n",
    "plt.rcParams['image.interpolation'] = 'nearest'\n",
    "plt.rcParams['image.cmap'] = 'gray'\n",
    "\n",
    "# for auto-reloading extenrnal modules\n",
    "# see http://stackoverflow.com/questions/1907993/autoreload-of-modules-in-ipython\n",
    "%load_ext autoreload\n",
    "%autoreload 2"
   ]
  },
  {
   "cell_type": "code",
   "execution_count": 6,
   "metadata": {
    "collapsed": false
   },
   "outputs": [
    {
     "name": "stdout",
     "output_type": "stream",
     "text": [
      "Train data shape:  (4900L, 3073L)\n",
      "Train labels shape:  (4900L,)\n",
      "Validation data shape:  (100L, 3073L)\n",
      "Validation labels shape:  (100L,)\n",
      "Test data shape:  (1000L, 3073L)\n",
      "Test labels shape:  (1000L,)\n",
      "dev data shape:  (500L, 3073L)\n",
      "dev labels shape:  (500L,)\n"
     ]
    }
   ],
   "source": [
    "def get_CIFAR10_data(num_training=4900, num_validation=100, num_test=1000, num_dev=500):\n",
    "  \"\"\"\n",
    "  Load the CIFAR-10 dataset from disk and perform preprocessing to prepare\n",
    "  it for the linear classifier. These are the same steps as we used for the\n",
    "  SVM, but condensed to a single function.  \n",
    "  \"\"\"\n",
    "  # Load the raw CIFAR-10 data\n",
    "  cifar10_dir = 'cs231n/datasets/cifar-10-batches-py'\n",
    "  X_train, y_train, X_test, y_test = load_CIFAR10(cifar10_dir)\n",
    "  \n",
    "  # subsample the data\n",
    "  mask = range(num_training, num_training + num_validation)\n",
    "  X_val = X_train[mask]\n",
    "  y_val = y_train[mask]\n",
    "  mask = range(num_training)\n",
    "  X_train = X_train[mask]\n",
    "  y_train = y_train[mask]\n",
    "  mask = range(num_test)\n",
    "  X_test = X_test[mask]\n",
    "  y_test = y_test[mask]\n",
    "  mask = np.random.choice(num_training, num_dev, replace=False)\n",
    "  X_dev = X_train[mask]\n",
    "  y_dev = y_train[mask]\n",
    "  \n",
    "  # Preprocessing: reshape the image data into rows\n",
    "  X_train = np.reshape(X_train, (X_train.shape[0], -1))\n",
    "  X_val = np.reshape(X_val, (X_val.shape[0], -1))\n",
    "  X_test = np.reshape(X_test, (X_test.shape[0], -1))\n",
    "  X_dev = np.reshape(X_dev, (X_dev.shape[0], -1))\n",
    "  \n",
    "  # Normalize the data: subtract the mean image\n",
    "  mean_image = np.mean(X_train, axis = 0)\n",
    "  X_train -= mean_image\n",
    "  X_val -= mean_image\n",
    "  X_test -= mean_image\n",
    "  X_dev -= mean_image\n",
    "  \n",
    "  # add bias dimension and transform into columns\n",
    "  X_train = np.hstack([X_train, np.ones((X_train.shape[0], 1))])\n",
    "  X_val = np.hstack([X_val, np.ones((X_val.shape[0], 1))])\n",
    "  X_test = np.hstack([X_test, np.ones((X_test.shape[0], 1))])\n",
    "  X_dev = np.hstack([X_dev, np.ones((X_dev.shape[0], 1))])\n",
    "  \n",
    "  return X_train, y_train, X_val, y_val, X_test, y_test, X_dev, y_dev\n",
    "\n",
    "\n",
    "# Invoke the above function to get our data.\n",
    "X_train, y_train, X_val, y_val, X_test, y_test, X_dev, y_dev = get_CIFAR10_data()\n",
    "print 'Train data shape: ', X_train.shape\n",
    "print 'Train labels shape: ', y_train.shape\n",
    "print 'Validation data shape: ', X_val.shape\n",
    "print 'Validation labels shape: ', y_val.shape\n",
    "print 'Test data shape: ', X_test.shape\n",
    "print 'Test labels shape: ', y_test.shape\n",
    "print 'dev data shape: ', X_dev.shape\n",
    "print 'dev labels shape: ', y_dev.shape"
   ]
  },
  {
   "cell_type": "markdown",
   "metadata": {},
   "source": [
    "## Softmax Classifier\n",
    "\n",
    "Your code for this section will all be written inside **cs231n/classifiers/softmax.py**. \n"
   ]
  },
  {
   "cell_type": "code",
   "execution_count": 7,
   "metadata": {
    "collapsed": false
   },
   "outputs": [
    {
     "name": "stdout",
     "output_type": "stream",
     "text": [
      "loss: 2.353058\n",
      "sanity check: 2.302585\n"
     ]
    }
   ],
   "source": [
    "# First implement the naive softmax loss function with nested loops.\n",
    "# Open the file cs231n/classifiers/softmax.py and implement the\n",
    "# softmax_loss_naive function.\n",
    "\n",
    "from cs231n.classifiers.softmax import softmax_loss_naive\n",
    "import time\n",
    "\n",
    "# Generate a random softmax weight matrix and use it to compute the loss.\n",
    "W = np.random.randn(3073, 10) * 0.0001\n",
    "loss, grad = softmax_loss_naive(W, X_dev, y_dev, 0.0)\n",
    "\n",
    "# As a rough sanity check, our loss should be something close to -log(0.1).\n",
    "print 'loss: %f' % loss\n",
    "print 'sanity check: %f' % (-np.log(0.1))"
   ]
  },
  {
   "cell_type": "markdown",
   "metadata": {},
   "source": [
    "## Inline Question 1:\n",
    "Why do we expect our loss to be close to -log(0.1)? Explain briefly.**\n",
    "\n",
    "**Your answer:** *Fill this in*\n"
   ]
  },
  {
   "cell_type": "code",
   "execution_count": 8,
   "metadata": {
    "collapsed": false
   },
   "outputs": [
    {
     "name": "stdout",
     "output_type": "stream",
     "text": [
      "numerical: -1.773743 analytic: -1.773743, relative error: 8.213058e-09\n",
      "numerical: -2.875445 analytic: -2.875445, relative error: 1.281984e-08\n",
      "numerical: 0.608351 analytic: 0.608351, relative error: 7.238429e-08\n",
      "numerical: -5.176738 analytic: -5.176738, relative error: 4.944007e-09\n",
      "numerical: 0.682711 analytic: 0.682711, relative error: 2.500903e-08\n",
      "numerical: -0.012318 analytic: -0.012318, relative error: 4.226585e-07\n",
      "numerical: -1.886445 analytic: -1.886445, relative error: 9.377369e-09\n",
      "numerical: 1.625298 analytic: 1.625298, relative error: 6.090564e-09\n",
      "numerical: 0.708333 analytic: 0.708333, relative error: 2.435597e-08\n",
      "numerical: -0.623633 analytic: -0.623633, relative error: 2.338109e-08\n",
      "numerical: 1.083375 analytic: 1.083375, relative error: 1.855564e-09\n",
      "numerical: -3.010380 analytic: -3.010380, relative error: 1.473056e-08\n",
      "numerical: 2.765777 analytic: 2.765777, relative error: 1.097610e-08\n",
      "numerical: -0.997804 analytic: -0.997804, relative error: 3.166224e-08\n",
      "numerical: 1.249215 analytic: 1.249215, relative error: 3.278218e-09\n",
      "numerical: -2.454836 analytic: -2.454836, relative error: 1.920263e-09\n",
      "numerical: -0.061633 analytic: -0.061633, relative error: 9.584493e-07\n",
      "numerical: -3.107319 analytic: -3.107320, relative error: 2.292783e-08\n",
      "numerical: 0.077016 analytic: 0.077016, relative error: 1.978801e-07\n",
      "numerical: 2.715434 analytic: 2.715434, relative error: 2.025787e-08\n"
     ]
    }
   ],
   "source": [
    "# Complete the implementation of softmax_loss_naive and implement a (naive)\n",
    "# version of the gradient that uses nested loops.\n",
    "loss, grad = softmax_loss_naive(W, X_dev, y_dev, 0.0)\n",
    "\n",
    "# As we did for the SVM, use numeric gradient checking as a debugging tool.\n",
    "# The numeric gradient should be close to the analytic gradient.\n",
    "from cs231n.gradient_check import grad_check_sparse\n",
    "f = lambda w: softmax_loss_naive(w, X_dev, y_dev, 0.0)[0]\n",
    "grad_numerical = grad_check_sparse(f, W, grad, 10)\n",
    "\n",
    "# similar to SVM case, do another gradient check with regularization\n",
    "loss, grad = softmax_loss_naive(W, X_dev, y_dev, 1e2)\n",
    "f = lambda w: softmax_loss_naive(w, X_dev, y_dev, 1e2)[0]\n",
    "grad_numerical = grad_check_sparse(f, W, grad, 10)"
   ]
  },
  {
   "cell_type": "code",
   "execution_count": 9,
   "metadata": {
    "collapsed": false
   },
   "outputs": [
    {
     "name": "stdout",
     "output_type": "stream",
     "text": [
      "naive loss: 2.353058e+00 computed in 0.149000s\n",
      "vectorized loss: 2.353058e+00 computed in 0.009000s\n",
      "Loss difference: 0.000000\n",
      "Gradient difference: 0.000000\n"
     ]
    }
   ],
   "source": [
    "# Now that we have a naive implementation of the softmax loss function and its gradient,\n",
    "# implement a vectorized version in softmax_loss_vectorized.\n",
    "# The two versions should compute the same results, but the vectorized version should be\n",
    "# much faster.\n",
    "tic = time.time()\n",
    "loss_naive, grad_naive = softmax_loss_naive(W, X_dev, y_dev, 0.00001)\n",
    "toc = time.time()\n",
    "print 'naive loss: %e computed in %fs' % (loss_naive, toc - tic)\n",
    "\n",
    "from cs231n.classifiers.softmax import softmax_loss_vectorized\n",
    "tic = time.time()\n",
    "loss_vectorized, grad_vectorized = softmax_loss_vectorized(W, X_dev, y_dev, 0.00001)\n",
    "toc = time.time()\n",
    "print 'vectorized loss: %e computed in %fs' % (loss_vectorized, toc - tic)\n",
    "\n",
    "# As we did for the SVM, we use the Frobenius norm to compare the two versions\n",
    "# of the gradient.\n",
    "grad_difference = np.linalg.norm(grad_naive - grad_vectorized, ord='fro')\n",
    "print 'Loss difference: %f' % np.abs(loss_naive - loss_vectorized)\n",
    "print 'Gradient difference: %f' % grad_difference"
   ]
  },
  {
   "cell_type": "code",
   "execution_count": 12,
   "metadata": {
    "collapsed": false
   },
   "outputs": [
    {
     "name": "stdout",
     "output_type": "stream",
     "text": [
      "lr 1.000000e-07 reg 7.000000e+03 train accuracy: 0.225102 val accuracy: 0.190000\n",
      "lr 1.000000e-07 reg 8.000000e+03 train accuracy: 0.231837 val accuracy: 0.240000\n",
      "lr 1.000000e-07 reg 9.000000e+03 train accuracy: 0.241429 val accuracy: 0.210000\n",
      "lr 1.000000e-07 reg 1.000000e+04 train accuracy: 0.212245 val accuracy: 0.150000\n",
      "lr 1.000000e-07 reg 1.100000e+04 train accuracy: 0.239592 val accuracy: 0.220000\n",
      "lr 1.000000e-07 reg 1.200000e+04 train accuracy: 0.233673 val accuracy: 0.200000\n",
      "lr 1.000000e-07 reg 1.300000e+04 train accuracy: 0.232857 val accuracy: 0.160000\n",
      "lr 1.000000e-07 reg 4.700000e+04 train accuracy: 0.321429 val accuracy: 0.320000\n",
      "lr 1.000000e-07 reg 4.800000e+04 train accuracy: 0.333061 val accuracy: 0.290000\n",
      "lr 1.000000e-07 reg 4.900000e+04 train accuracy: 0.322449 val accuracy: 0.350000\n",
      "lr 1.000000e-07 reg 5.000000e+04 train accuracy: 0.331429 val accuracy: 0.280000\n",
      "lr 1.000000e-07 reg 5.100000e+04 train accuracy: 0.333673 val accuracy: 0.340000\n",
      "lr 1.000000e-07 reg 5.200000e+04 train accuracy: 0.328367 val accuracy: 0.270000\n",
      "lr 1.000000e-07 reg 5.300000e+04 train accuracy: 0.329184 val accuracy: 0.320000\n",
      "lr 2.000000e-07 reg 7.000000e+03 train accuracy: 0.287347 val accuracy: 0.320000\n",
      "lr 2.000000e-07 reg 8.000000e+03 train accuracy: 0.295510 val accuracy: 0.260000\n",
      "lr 2.000000e-07 reg 9.000000e+03 train accuracy: 0.302245 val accuracy: 0.310000\n",
      "lr 2.000000e-07 reg 1.000000e+04 train accuracy: 0.307755 val accuracy: 0.310000\n",
      "lr 2.000000e-07 reg 1.100000e+04 train accuracy: 0.310408 val accuracy: 0.300000\n",
      "lr 2.000000e-07 reg 1.200000e+04 train accuracy: 0.328571 val accuracy: 0.340000\n",
      "lr 2.000000e-07 reg 1.300000e+04 train accuracy: 0.321020 val accuracy: 0.340000\n",
      "lr 2.000000e-07 reg 4.700000e+04 train accuracy: 0.348571 val accuracy: 0.300000\n",
      "lr 2.000000e-07 reg 4.800000e+04 train accuracy: 0.349796 val accuracy: 0.290000\n",
      "lr 2.000000e-07 reg 4.900000e+04 train accuracy: 0.347347 val accuracy: 0.300000\n",
      "lr 2.000000e-07 reg 5.000000e+04 train accuracy: 0.352653 val accuracy: 0.310000\n",
      "lr 2.000000e-07 reg 5.100000e+04 train accuracy: 0.353061 val accuracy: 0.290000\n",
      "lr 2.000000e-07 reg 5.200000e+04 train accuracy: 0.338776 val accuracy: 0.300000\n",
      "lr 2.000000e-07 reg 5.300000e+04 train accuracy: 0.349592 val accuracy: 0.300000\n",
      "lr 5.000000e-07 reg 7.000000e+03 train accuracy: 0.403265 val accuracy: 0.320000\n",
      "lr 5.000000e-07 reg 8.000000e+03 train accuracy: 0.392449 val accuracy: 0.320000\n",
      "lr 5.000000e-07 reg 9.000000e+03 train accuracy: 0.406735 val accuracy: 0.350000\n",
      "lr 5.000000e-07 reg 1.000000e+04 train accuracy: 0.402857 val accuracy: 0.360000\n",
      "lr 5.000000e-07 reg 1.100000e+04 train accuracy: 0.397551 val accuracy: 0.320000\n",
      "lr 5.000000e-07 reg 1.200000e+04 train accuracy: 0.392041 val accuracy: 0.330000\n",
      "lr 5.000000e-07 reg 1.300000e+04 train accuracy: 0.399592 val accuracy: 0.340000\n",
      "lr 5.000000e-07 reg 4.700000e+04 train accuracy: 0.351429 val accuracy: 0.310000\n",
      "lr 5.000000e-07 reg 4.800000e+04 train accuracy: 0.349592 val accuracy: 0.310000\n",
      "lr 5.000000e-07 reg 4.900000e+04 train accuracy: 0.331224 val accuracy: 0.300000\n",
      "lr 5.000000e-07 reg 5.000000e+04 train accuracy: 0.347755 val accuracy: 0.320000\n",
      "lr 5.000000e-07 reg 5.100000e+04 train accuracy: 0.340204 val accuracy: 0.330000\n",
      "lr 5.000000e-07 reg 5.200000e+04 train accuracy: 0.351429 val accuracy: 0.300000\n",
      "lr 5.000000e-07 reg 5.300000e+04 train accuracy: 0.356327 val accuracy: 0.300000\n",
      "best validation accuracy achieved during cross-validation: 0.360000\n"
     ]
    }
   ],
   "source": [
    "# Use the validation set to tune hyperparameters (regularization strength and\n",
    "# learning rate). You should experiment with different ranges for the learning\n",
    "# rates and regularization strengths; if you are careful you should be able to\n",
    "# get a classification accuracy of over 0.35 on the validation set.\n",
    "from cs231n.classifiers import Softmax\n",
    "results = {}\n",
    "best_val = -1\n",
    "best_softmax = None\n",
    "learning_rates = [1e-7, 2e-7, 5e-7]\n",
    "#regularization_strengths = [5e4, 1e8]\n",
    "regularization_strengths =[(1+0.1*i)*1e4 for i in range(-3,4)] + [(5+0.1*i)*1e4 for i in range(-3,4)]\n",
    "\n",
    "################################################################################\n",
    "# TODO:                                                                        #\n",
    "# Use the validation set to set the learning rate and regularization strength. #\n",
    "# This should be identical to the validation that you did for the SVM; save    #\n",
    "# the best trained softmax classifer in best_softmax.                          #\n",
    "################################################################################\n",
    "for lr in learning_rates:\n",
    "    for rs in regularization_strengths:\n",
    "        softmax = Softmax()\n",
    "        softmax.train(X_train, y_train, lr, rs, num_iters=500)\n",
    "        y_train_pred = softmax.predict(X_train)\n",
    "        train_accuracy = np.mean(y_train == y_train_pred)\n",
    "        y_val_pred = softmax.predict(X_val)\n",
    "        val_accuracy = np.mean(y_val == y_val_pred)\n",
    "        if val_accuracy > best_val:\n",
    "            best_val = val_accuracy\n",
    "            best_softmax = softmax           \n",
    "        results[(lr,rs)] = train_accuracy, val_accuracy\n",
    "#pass\n",
    "################################################################################\n",
    "#                              END OF YOUR CODE                                #\n",
    "################################################################################\n",
    "    \n",
    "# Print out results.\n",
    "for lr, reg in sorted(results):\n",
    "    train_accuracy, val_accuracy = results[(lr, reg)]\n",
    "    print 'lr %e reg %e train accuracy: %f val accuracy: %f' % (\n",
    "                lr, reg, train_accuracy, val_accuracy)\n",
    "    \n",
    "print 'best validation accuracy achieved during cross-validation: %f' % best_val"
   ]
  },
  {
   "cell_type": "code",
   "execution_count": 13,
   "metadata": {
    "collapsed": false
   },
   "outputs": [
    {
     "name": "stdout",
     "output_type": "stream",
     "text": [
      "softmax on raw pixels final test set accuracy: 0.346000\n"
     ]
    }
   ],
   "source": [
    "# evaluate on test set\n",
    "# Evaluate the best softmax on test set\n",
    "y_test_pred = best_softmax.predict(X_test)\n",
    "test_accuracy = np.mean(y_test == y_test_pred)\n",
    "print 'softmax on raw pixels final test set accuracy: %f' % (test_accuracy, )"
   ]
  },
  {
   "cell_type": "code",
   "execution_count": 14,
   "metadata": {
    "collapsed": false
   },
   "outputs": [
    {
     "data": {
      "image/png": "[encoded data removed]",
      "text/plain": [
       "<matplotlib.figure.Figure at 0x76af320>"
      ]
     },
     "metadata": {},
     "output_type": "display_data"
    }
   ],
   "source": [
    "# Visualize the learned weights for each class\n",
    "w = best_softmax.W[:-1,:] # strip out the bias\n",
    "w = w.reshape(32, 32, 3, 10)\n",
    "\n",
    "w_min, w_max = np.min(w), np.max(w)\n",
    "\n",
    "classes = ['plane', 'car', 'bird', 'cat', 'deer', 'dog', 'frog', 'horse', 'ship', 'truck']\n",
    "for i in xrange(10):\n",
    "  plt.subplot(2, 5, i + 1)\n",
    "  \n",
    "  # Rescale the weights to be between 0 and 255\n",
    "  wimg = 255.0 * (w[:, :, :, i].squeeze() - w_min) / (w_max - w_min)\n",
    "  plt.imshow(wimg.astype('uint8'))\n",
    "  plt.axis('off')\n",
    "  plt.title(classes[i])"
   ]
  },
  {
   "cell_type": "code",
   "execution_count": null,
   "metadata": {
    "collapsed": true
   },
   "outputs": [],
   "source": []
  }
 ],
 "metadata": {
  "anaconda-cloud": {},
  "kernelspec": {
   "display_name": "Python [Root]",
   "language": "python",
   "name": "Python [Root]"
  },
  "language_info": {
   "codemirror_mode": {
    "name": "ipython",
    "version": 2
   },
   "file_extension": ".py",
   "mimetype": "text/x-python",
   "name": "python",
   "nbconvert_exporter": "python",
   "pygments_lexer": "ipython2",
   "version": "2.7.11"
  }
 },
 "nbformat": 4,
 "nbformat_minor": 0
}
